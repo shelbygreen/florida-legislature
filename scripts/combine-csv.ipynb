{
 "cells": [
  {
   "cell_type": "markdown",
   "metadata": {},
   "source": [
    "## COMBINE CSV FILES - PYTHON\n",
    "\n",
    "#### Usage: This script combines multiple csv files into one csv file.\n",
    "\n",
    "#### Maintainer: (Benji Charles)\n",
    "\n",
    "#### Date: 2019-05-01\n",
    "\n",
    "#### Version: 1.0\n",
    "\n",
    "#### Requirements: Python 3.6"
   ]
  },
  {
   "cell_type": "markdown",
   "metadata": {},
   "source": [
    "#### Pre-requisites: Files must have the same column names.\n",
    "\n",
    "\n",
    "#### How to use this script\n",
    "\n",
    "1. Polulate the `FILES` and `NEW_FILE` variables with the correct file paths.\n",
    "2. Run the script."
   ]
  },
  {
   "cell_type": "code",
   "execution_count": 13,
   "metadata": {},
   "outputs": [],
   "source": [
    "# import packages\n",
    "\n",
    "import pandas as pd\n"
   ]
  },
  {
   "cell_type": "code",
   "execution_count": 14,
   "metadata": {},
   "outputs": [],
   "source": [
    "# set variables\n",
    "\n",
    "FILES = ['../data/term2224-fl-representatives.csv', '../data/term2224-fl-senators.csv']\n",
    "NEW_FILE = '../data/term2224-fl.csv'"
   ]
  },
  {
   "cell_type": "code",
   "execution_count": 15,
   "metadata": {},
   "outputs": [],
   "source": [
    "# get the data from the files into a list of dataframes\n",
    "data = [pd.read_csv(f) for f in FILES]\n",
    "\n",
    "# loop through the dataframes and remove the first column, if the first column name contains \"Unnamed\"\n",
    "for item in range(len(data)):\n",
    "    # if the first column name contains \"Unnamed\" then remove it\n",
    "    if \"Unnamed\" in data[item].columns.values.tolist()[0]:\n",
    "        data[item] = data[item].drop(columns=data[item].columns.values.tolist()[0])\n",
    "# concatenate the dataframes\n",
    "combined_df = pd.concat(data)\n",
    "\n",
    "# create a new csv file with the combined data pandas dataframe\n",
    "combined_df.to_csv(NEW_FILE, index=False)\n",
    "\n",
    "\n",
    "\n",
    "\n"
   ]
  },
  {
   "cell_type": "code",
   "execution_count": null,
   "metadata": {},
   "outputs": [],
   "source": []
  }
 ],
 "metadata": {
  "kernelspec": {
   "display_name": "Python 3.10.4 ('experimental')",
   "language": "python",
   "name": "python3"
  },
  "language_info": {
   "codemirror_mode": {
    "name": "ipython",
    "version": 3
   },
   "file_extension": ".py",
   "mimetype": "text/x-python",
   "name": "python",
   "nbconvert_exporter": "python",
   "pygments_lexer": "ipython3",
   "version": "3.10.4"
  },
  "orig_nbformat": 4,
  "vscode": {
   "interpreter": {
    "hash": "c1c837a05a28abe8bf7ff723dea8f75f98e62cb7dc63eb44ca13ccffbb6020e6"
   }
  }
 },
 "nbformat": 4,
 "nbformat_minor": 2
}
