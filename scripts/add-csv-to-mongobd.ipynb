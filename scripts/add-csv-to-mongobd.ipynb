{
 "cells": [
  {
   "cell_type": "markdown",
   "metadata": {},
   "source": [
    "## CSV TO MONGODB CONVERTER - PYTHON\n",
    "\n",
    "#### Usage: This script is to help upload csv files to mongodb\n",
    "\n",
    "#### Maintainer: (Benji Charles)\n",
    "\n",
    "#### Date: 2019-05-01\n",
    "\n",
    "#### Version: 1.0\n",
    "\n",
    "#### Requirements: Python 3.6, pymongo, pandas, python-dotenv"
   ]
  },
  {
   "cell_type": "markdown",
   "metadata": {},
   "source": [
    "#### How to use this script\n",
    "\n",
    "1. Create a .env file in the same directory as this script and add the following variables\n",
    "2. Set the `MONGO_CONNECTION_STRING` in the .env file\n",
    "3. Populate the `UPLOAD_INFO` list with the following information\n",
    "    1. The name of the csv file\n",
    "    2. The name of the collection in mongodb\n",
    "    3. The name of the database in mongodb\n",
    "\n"
   ]
  },
  {
   "cell_type": "code",
   "execution_count": 12,
   "metadata": {},
   "outputs": [
    {
     "data": {
      "text/plain": [
       "True"
      ]
     },
     "execution_count": 12,
     "metadata": {},
     "output_type": "execute_result"
    }
   ],
   "source": [
    "# Import libraries\n",
    "import pandas\n",
    "import pymongo\n",
    "import os\n",
    "from dotenv import load_dotenv\n",
    "\n",
    "load_dotenv()  # take environment variables from .env.\n",
    "\n",
    "\n"
   ]
  },
  {
   "cell_type": "code",
   "execution_count": 13,
   "metadata": {},
   "outputs": [
    {
     "name": "stdout",
     "output_type": "stream",
     "text": [
      "\n"
     ]
    }
   ],
   "source": [
    "# get variables from the user\n",
    "\n",
    "MONGO_CONNECTION_STRING = os.getenv('MONGO_CONNECTION_STRING')\n",
    "UPLOAD_INFO = [\n",
    "    {\n",
    "    \"file\": \"../data/term2224-fl-senators.csv\",\n",
    "    \"database\": \"FL_125th-Regular-Session\",\n",
    "    \"collection\": \"senators\"\n",
    "    },\n",
    "    {\n",
    "    \"file\": \"../data/term2224-fl-representatives.csv\",\n",
    "    \"database\": \"FL_125th-Regular-Session\",\n",
    "    \"collection\": \"representatives\"\n",
    "    }\n",
    "]\n",
    "\n",
    "print()\n"
   ]
  },
  {
   "cell_type": "code",
   "execution_count": 14,
   "metadata": {},
   "outputs": [
    {
     "name": "stdout",
     "output_type": "stream",
     "text": [
      "0 new records uploaded to FL_125th-Regular-Session.senators\n",
      "0 new records uploaded to FL_125th-Regular-Session.representatives\n"
     ]
    }
   ],
   "source": [
    "# connect to MongoDB\n",
    "def get_mongodb_client(db_name,collection_name):\n",
    "    client = pymongo.MongoClient(MONGO_CONNECTION_STRING)\n",
    "    db = client.get_database(db_name)\n",
    "    return db.get_collection(collection_name)\n",
    "\n",
    "# check if data exists in MongoDB\n",
    "def check_if_data_exists(database, data):\n",
    "    returned_data = database.find_one(data)\n",
    "    # print(returned_data)\n",
    "    if database.find_one(data):\n",
    "        \n",
    "        return True\n",
    "    return False\n",
    "\n",
    "# loop through the files and upload the data\n",
    "for database_info in UPLOAD_INFO:\n",
    "    # read in the file\n",
    "    df = pandas.read_csv(database_info[\"file\"])\n",
    "    \n",
    "    # if the first column name contains \"Unnamed\" then remove it\n",
    "    if \"Unnamed\" in df.columns.values.tolist()[0]:\n",
    "        df = df.drop(columns=df.columns.values.tolist()[0])\n",
    "    \n",
    "    # normalize the data\n",
    "    df.reset_index(drop=True, inplace=True)\n",
    "    \n",
    "    # turn dataframe into a list of dictionaries\n",
    "    data_dict = df.to_dict(orient=\"records\")\n",
    "            \n",
    "    # connect to MongoDB\n",
    "    database = get_mongodb_client(database_info[\"database\"], database_info[\"collection\"])\n",
    "    \n",
    "    # if the data is not in the database then add to the to_upload_list list\n",
    "    to_upload_list = []\n",
    "    for data in data_dict:\n",
    "        if not check_if_data_exists(database, data):\n",
    "            to_upload_list.append(data)\n",
    "                \n",
    "    # insert the data into MongoDB\n",
    "    if len(to_upload_list) > 0:\n",
    "        database.insert_many(to_upload_list)\n",
    "        \n",
    "    print(f'{len(to_upload_list)} new records uploaded to {database_info[\"database\"]}.{database_info[\"collection\"]}')\n",
    "        \n"
   ]
  },
  {
   "cell_type": "code",
   "execution_count": null,
   "metadata": {},
   "outputs": [],
   "source": []
  }
 ],
 "metadata": {
  "kernelspec": {
   "display_name": "Python 3.10.4 ('experimental')",
   "language": "python",
   "name": "python3"
  },
  "language_info": {
   "codemirror_mode": {
    "name": "ipython",
    "version": 3
   },
   "file_extension": ".py",
   "mimetype": "text/x-python",
   "name": "python",
   "nbconvert_exporter": "python",
   "pygments_lexer": "ipython3",
   "version": "3.10.4"
  },
  "orig_nbformat": 4,
  "vscode": {
   "interpreter": {
    "hash": "c1c837a05a28abe8bf7ff723dea8f75f98e62cb7dc63eb44ca13ccffbb6020e6"
   }
  }
 },
 "nbformat": 4,
 "nbformat_minor": 2
}
